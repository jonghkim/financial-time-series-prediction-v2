{
  "nbformat": 4,
  "nbformat_minor": 0,
  "metadata": {
    "colab": {
      "name": "Assignment_Various_Outcome_Crypto_Currency_Prediction_Solution.ipynb",
      "version": "0.3.2",
      "provenance": [],
      "collapsed_sections": []
    },
    "kernelspec": {
      "name": "python3",
      "display_name": "Python 3"
    },
    "accelerator": "GPU"
  },
  "cells": [
    {
      "metadata": {
        "id": "KXCMLqVzKQ7F",
        "colab_type": "text"
      },
      "cell_type": "markdown",
      "source": [
        "# Develop Your Own Neural Network Model for Crypocurrenct Prediction\n",
        "\n",
        "- Exercise1 Trinary Classification Model\n",
        "- Exercise2 Return Prediction Model"
      ]
    },
    {
      "metadata": {
        "id": "gP7BoQO-Z6Wk",
        "colab_type": "text"
      },
      "cell_type": "markdown",
      "source": [
        "# Exercise1 Trinary Classification Model\n",
        "\n"
      ]
    },
    {
      "metadata": {
        "id": "Us-FmgUYPjH9",
        "colab_type": "text"
      },
      "cell_type": "markdown",
      "source": [
        "### Data Download at: https://drive.google.com/open?id=1thjGhgnAm5k1zuSiWhGmlUJzBXM3IECi\n",
        "\n",
        "This exercise is a little bit long exercise, that should give you an idea of a real world scenario. Feel free to look at the solution if you feel lost.\n",
        "\n",
        "#### Requirements\n",
        "1. In this exercise you will change outcome variables to `trinary variables (up / no change / down)` from the `binary (up / down) case`\n",
        "\n",
        "  - up: > 1 * std of return\n",
        "  - no change:  in between +1 * std of return and  - 1 * std of return\n",
        "  - down: < -1* std of return\n",
        "\n",
        "2. You should change your model to accept correspoding output (trinary)\n",
        "\n",
        "\n",
        "#### Procedures\n",
        "- Preprocessing\n",
        "  1. Data Import and Create Balanced Panel\n",
        "  2. Create Target Variable\n",
        "  3. Train / Test Split\n",
        "  4. Create Sequences\n",
        "\n",
        "- Training / Predicting Model\n",
        "  1. Model Build\n",
        "  2. Model Train\n",
        "  3. Prediction"
      ]
    },
    {
      "metadata": {
        "id": "EnRISOgoh5es",
        "colab_type": "text"
      },
      "cell_type": "markdown",
      "source": [
        "## Preprocessing"
      ]
    },
    {
      "metadata": {
        "id": "xIxPbmzGQFwR",
        "colab_type": "text"
      },
      "cell_type": "markdown",
      "source": [
        "### 1. Data Import and Create Balanced Panel"
      ]
    },
    {
      "metadata": {
        "id": "4T3G0OFBKcsJ",
        "colab_type": "code",
        "colab": {}
      },
      "cell_type": "code",
      "source": [
        "%matplotlib inline"
      ],
      "execution_count": 0,
      "outputs": []
    },
    {
      "metadata": {
        "id": "TJVHhAmOMWmH",
        "colab_type": "code",
        "outputId": "1d0938a7-d4fe-417a-e295-2d7978e82faf",
        "colab": {
          "base_uri": "https://localhost:8080/",
          "height": 35
        }
      },
      "cell_type": "code",
      "source": [
        "from google.colab import drive\n",
        "drive.mount('/content/gdrive')"
      ],
      "execution_count": 2,
      "outputs": [
        {
          "output_type": "stream",
          "text": [
            "Drive already mounted at /content/gdrive; to attempt to forcibly remount, call drive.mount(\"/content/gdrive\", force_remount=True).\n"
          ],
          "name": "stdout"
        }
      ]
    },
    {
      "metadata": {
        "id": "796JRrylMW2y",
        "colab_type": "code",
        "colab": {}
      },
      "cell_type": "code",
      "source": [
        "DATA_PATH = \"/content/gdrive/My Drive/Lecture/StudyPie/Data/\""
      ],
      "execution_count": 0,
      "outputs": []
    },
    {
      "metadata": {
        "id": "uV7aneomMlG6",
        "colab_type": "code",
        "outputId": "8e11bed1-d96f-45f1-bc64-dfa8eaf33064",
        "colab": {
          "base_uri": "https://localhost:8080/",
          "height": 71
        }
      },
      "cell_type": "code",
      "source": [
        "!ls \"/content/gdrive/My Drive/Lecture/StudyPie/Data/\""
      ],
      "execution_count": 4,
      "outputs": [
        {
          "output_type": "stream",
          "text": [
            "256x2-CNN.model  crypto_data.zip  M2_1_y.pickle  PetImages.zip\n",
            "CoinOne\t\t log\t\t  __MACOSX\t simple_rnn_model.h5\n",
            "crypto_data\t M2_1_X.pickle\t  PetImages\n"
          ],
          "name": "stdout"
        }
      ]
    },
    {
      "metadata": {
        "id": "cmkvrXr9MmQ6",
        "colab_type": "code",
        "colab": {}
      },
      "cell_type": "code",
      "source": [
        "# Unzip Data\n",
        "# It will take more than 5 min\n",
        "import zipfile\n",
        "import io\n",
        "\n",
        "zf = zipfile.ZipFile(DATA_PATH+\"crypto_data.zip\", \"r\")\n",
        "zf.extractall(DATA_PATH)"
      ],
      "execution_count": 0,
      "outputs": []
    },
    {
      "metadata": {
        "id": "7KTUsoWxNXqi",
        "colab_type": "code",
        "colab": {}
      },
      "cell_type": "code",
      "source": [
        "SEQ_LEN = 60  # how long of a preceeding sequence to collect for RNN\n",
        "FUTURE_PERIOD_PREDICT = 3  # how far into the future are we trying to predict?\n",
        "RATIO_TO_PREDICT = \"LTC-USD\""
      ],
      "execution_count": 0,
      "outputs": []
    },
    {
      "metadata": {
        "id": "p2TejG4LMwkP",
        "colab_type": "code",
        "outputId": "b92713ed-45e9-4695-bd44-20e4379938da",
        "colab": {
          "base_uri": "https://localhost:8080/",
          "height": 359
        }
      },
      "cell_type": "code",
      "source": [
        "import pandas as pd\n",
        "\n",
        "main_df = pd.DataFrame() # begin empty\n",
        "\n",
        "ratios = [\"BTC-USD\", \"LTC-USD\", \"BCH-USD\", \"ETH-USD\"]  # the 4 ratios we want to consider\n",
        "\n",
        "for ratio in ratios:  # begin iteration\n",
        "    print(ratio)\n",
        "    dataset = DATA_PATH+f'crypto_data/{ratio}.csv'  # get the full path to the file.\n",
        "    df = pd.read_csv(dataset, names=['time', 'low', 'high', 'open', 'close', 'volume'])  # read in specific file\n",
        "\n",
        "    # rename volume and close to include the ticker so we can still which close/volume is which:\n",
        "    df.rename(columns={\"close\": f\"{ratio}_close\", \"volume\": f\"{ratio}_volume\"}, inplace=True)\n",
        "\n",
        "    df.set_index(\"time\", inplace=True)  # set time as index so we can join them on this shared time\n",
        "    df = df[[f\"{ratio}_close\", f\"{ratio}_volume\"]]  # ignore the other columns besides price and volume\n",
        "\n",
        "    if len(main_df)==0:  # if the dataframe is empty\n",
        "        main_df = df  # then it's just the current df\n",
        "    else:  # otherwise, join this data to the main one\n",
        "        main_df = main_df.join(df)\n",
        "\n",
        "main_df.fillna(method=\"ffill\", inplace=True)  # if there are gaps in data, use previously known values\n",
        "main_df.dropna(inplace=True)\n",
        "print(main_df.head())  # how did we do??"
      ],
      "execution_count": 7,
      "outputs": [
        {
          "output_type": "stream",
          "text": [
            "BTC-USD\n",
            "LTC-USD\n",
            "BCH-USD\n",
            "ETH-USD\n",
            "            BTC-USD_close  BTC-USD_volume  LTC-USD_close  LTC-USD_volume  \\\n",
            "time                                                                       \n",
            "1528968720    6487.379883        7.706374      96.660004      314.387024   \n",
            "1528968780    6479.410156        3.088252      96.570000       77.129799   \n",
            "1528968840    6479.410156        1.404100      96.500000        7.216067   \n",
            "1528968900    6479.979980        0.753000      96.389999      524.539978   \n",
            "1528968960    6480.000000        1.490900      96.519997       16.991997   \n",
            "\n",
            "            BCH-USD_close  BCH-USD_volume  ETH-USD_close  ETH-USD_volume  \n",
            "time                                                                      \n",
            "1528968720     870.859985       26.856577      486.01001       26.019083  \n",
            "1528968780     870.099976        1.124300      486.00000        8.449400  \n",
            "1528968840     870.789978        1.749862      485.75000       26.994646  \n",
            "1528968900     870.000000        1.680500      486.00000       77.355759  \n",
            "1528968960     869.989990        1.669014      486.00000        7.503300  \n"
          ],
          "name": "stdout"
        }
      ]
    },
    {
      "metadata": {
        "id": "RdRbZCU-QRXL",
        "colab_type": "text"
      },
      "cell_type": "markdown",
      "source": [
        "### 2. Create Target Variable"
      ]
    },
    {
      "metadata": {
        "id": "yBLQ8fpSM0My",
        "colab_type": "code",
        "colab": {}
      },
      "cell_type": "code",
      "source": [
        "SIGNIFICANT_CRITERIA = 1   # 1 std criteria\n",
        " \n",
        "currency_targets = [\"BTC\"]\n",
        "\n",
        "for currency_target in currency_targets:\n",
        "    main_df[currency_target+'-USD-TARGET'] = main_df[currency_target+'-USD_close'].shift(-FUTURE_PERIOD_PREDICT )\n",
        "    main_df[currency_target+'-USD-TARGET-RETURN'] = (main_df[currency_target+'-USD-TARGET'] \n",
        "                                                                - main_df[currency_target+'-USD_close'])/main_df[currency_target+'-USD_close']"
      ],
      "execution_count": 0,
      "outputs": []
    },
    {
      "metadata": {
        "id": "rm5Fw5iJjTtW",
        "colab_type": "code",
        "colab": {}
      },
      "cell_type": "code",
      "source": [
        "import numpy as np\n",
        "\n",
        "def classify_trinary(values):\n",
        "    gp_std = np.std(values)\n",
        "\n",
        "    target = []\n",
        "    for value in values:\n",
        "        if SIGNIFICANT_CRITERIA*gp_std < value: # significant increase\n",
        "            target.append(2)\n",
        "        elif -SIGNIFICANT_CRITERIA*gp_std > value:  # significant decrease\n",
        "            target.append(0)  \n",
        "        else:\n",
        "            target.append(1) # No significant change\n",
        "            \n",
        "    return target"
      ],
      "execution_count": 0,
      "outputs": []
    },
    {
      "metadata": {
        "id": "pgbWDf51pisa",
        "colab_type": "code",
        "colab": {
          "base_uri": "https://localhost:8080/",
          "height": 235
        },
        "outputId": "2fc76028-633c-4523-b18f-87be9375c70c"
      },
      "cell_type": "code",
      "source": [
        "main_df.head()"
      ],
      "execution_count": 10,
      "outputs": [
        {
          "output_type": "execute_result",
          "data": {
            "text/html": [
              "<div>\n",
              "<style scoped>\n",
              "    .dataframe tbody tr th:only-of-type {\n",
              "        vertical-align: middle;\n",
              "    }\n",
              "\n",
              "    .dataframe tbody tr th {\n",
              "        vertical-align: top;\n",
              "    }\n",
              "\n",
              "    .dataframe thead th {\n",
              "        text-align: right;\n",
              "    }\n",
              "</style>\n",
              "<table border=\"1\" class=\"dataframe\">\n",
              "  <thead>\n",
              "    <tr style=\"text-align: right;\">\n",
              "      <th></th>\n",
              "      <th>BTC-USD_close</th>\n",
              "      <th>BTC-USD_volume</th>\n",
              "      <th>LTC-USD_close</th>\n",
              "      <th>LTC-USD_volume</th>\n",
              "      <th>BCH-USD_close</th>\n",
              "      <th>BCH-USD_volume</th>\n",
              "      <th>ETH-USD_close</th>\n",
              "      <th>ETH-USD_volume</th>\n",
              "      <th>BTC-USD-TARGET</th>\n",
              "      <th>BTC-USD-TARGET-RETURN</th>\n",
              "    </tr>\n",
              "    <tr>\n",
              "      <th>time</th>\n",
              "      <th></th>\n",
              "      <th></th>\n",
              "      <th></th>\n",
              "      <th></th>\n",
              "      <th></th>\n",
              "      <th></th>\n",
              "      <th></th>\n",
              "      <th></th>\n",
              "      <th></th>\n",
              "      <th></th>\n",
              "    </tr>\n",
              "  </thead>\n",
              "  <tbody>\n",
              "    <tr>\n",
              "      <th>1528968720</th>\n",
              "      <td>6487.379883</td>\n",
              "      <td>7.706374</td>\n",
              "      <td>96.660004</td>\n",
              "      <td>314.387024</td>\n",
              "      <td>870.859985</td>\n",
              "      <td>26.856577</td>\n",
              "      <td>486.01001</td>\n",
              "      <td>26.019083</td>\n",
              "      <td>6479.979980</td>\n",
              "      <td>-0.001141</td>\n",
              "    </tr>\n",
              "    <tr>\n",
              "      <th>1528968780</th>\n",
              "      <td>6479.410156</td>\n",
              "      <td>3.088252</td>\n",
              "      <td>96.570000</td>\n",
              "      <td>77.129799</td>\n",
              "      <td>870.099976</td>\n",
              "      <td>1.124300</td>\n",
              "      <td>486.00000</td>\n",
              "      <td>8.449400</td>\n",
              "      <td>6480.000000</td>\n",
              "      <td>0.000091</td>\n",
              "    </tr>\n",
              "    <tr>\n",
              "      <th>1528968840</th>\n",
              "      <td>6479.410156</td>\n",
              "      <td>1.404100</td>\n",
              "      <td>96.500000</td>\n",
              "      <td>7.216067</td>\n",
              "      <td>870.789978</td>\n",
              "      <td>1.749862</td>\n",
              "      <td>485.75000</td>\n",
              "      <td>26.994646</td>\n",
              "      <td>6477.220215</td>\n",
              "      <td>-0.000338</td>\n",
              "    </tr>\n",
              "    <tr>\n",
              "      <th>1528968900</th>\n",
              "      <td>6479.979980</td>\n",
              "      <td>0.753000</td>\n",
              "      <td>96.389999</td>\n",
              "      <td>524.539978</td>\n",
              "      <td>870.000000</td>\n",
              "      <td>1.680500</td>\n",
              "      <td>486.00000</td>\n",
              "      <td>77.355759</td>\n",
              "      <td>6480.000000</td>\n",
              "      <td>0.000003</td>\n",
              "    </tr>\n",
              "    <tr>\n",
              "      <th>1528968960</th>\n",
              "      <td>6480.000000</td>\n",
              "      <td>1.490900</td>\n",
              "      <td>96.519997</td>\n",
              "      <td>16.991997</td>\n",
              "      <td>869.989990</td>\n",
              "      <td>1.669014</td>\n",
              "      <td>486.00000</td>\n",
              "      <td>7.503300</td>\n",
              "      <td>6479.990234</td>\n",
              "      <td>-0.000002</td>\n",
              "    </tr>\n",
              "  </tbody>\n",
              "</table>\n",
              "</div>"
            ],
            "text/plain": [
              "            BTC-USD_close  BTC-USD_volume  LTC-USD_close  LTC-USD_volume  \\\n",
              "time                                                                       \n",
              "1528968720    6487.379883        7.706374      96.660004      314.387024   \n",
              "1528968780    6479.410156        3.088252      96.570000       77.129799   \n",
              "1528968840    6479.410156        1.404100      96.500000        7.216067   \n",
              "1528968900    6479.979980        0.753000      96.389999      524.539978   \n",
              "1528968960    6480.000000        1.490900      96.519997       16.991997   \n",
              "\n",
              "            BCH-USD_close  BCH-USD_volume  ETH-USD_close  ETH-USD_volume  \\\n",
              "time                                                                       \n",
              "1528968720     870.859985       26.856577      486.01001       26.019083   \n",
              "1528968780     870.099976        1.124300      486.00000        8.449400   \n",
              "1528968840     870.789978        1.749862      485.75000       26.994646   \n",
              "1528968900     870.000000        1.680500      486.00000       77.355759   \n",
              "1528968960     869.989990        1.669014      486.00000        7.503300   \n",
              "\n",
              "            BTC-USD-TARGET  BTC-USD-TARGET-RETURN  \n",
              "time                                               \n",
              "1528968720     6479.979980              -0.001141  \n",
              "1528968780     6480.000000               0.000091  \n",
              "1528968840     6477.220215              -0.000338  \n",
              "1528968900     6480.000000               0.000003  \n",
              "1528968960     6479.990234              -0.000002  "
            ]
          },
          "metadata": {
            "tags": []
          },
          "execution_count": 10
        }
      ]
    },
    {
      "metadata": {
        "id": "gSNeN1bRjVVm",
        "colab_type": "code",
        "colab": {
          "base_uri": "https://localhost:8080/",
          "height": 35
        },
        "outputId": "9a54071d-4098-48fd-88cf-b11bd7d1e0c6"
      },
      "cell_type": "code",
      "source": [
        "for currency_target in currency_targets:\n",
        "    print(\"SIGNIFICANT_CRITERIA:\", SIGNIFICANT_CRITERIA)\n",
        "    main_df[currency_target+'-TARGET'] = main_df[currency_target+'-USD-TARGET-RETURN'].transform(classify_trinary)\n",
        "    main_df.drop(columns=[currency_target+'-USD-TARGET', currency_target+'-USD-TARGET-RETURN'], inplace=True)"
      ],
      "execution_count": 11,
      "outputs": [
        {
          "output_type": "stream",
          "text": [
            "SIGNIFICANT_CRITERIA: 1\n"
          ],
          "name": "stdout"
        }
      ]
    },
    {
      "metadata": {
        "id": "zfzqBWw5ky7J",
        "colab_type": "code",
        "colab": {
          "base_uri": "https://localhost:8080/",
          "height": 235
        },
        "outputId": "a4725852-8003-4bf5-fd19-11b17485dc58"
      },
      "cell_type": "code",
      "source": [
        "main_df.head()"
      ],
      "execution_count": 12,
      "outputs": [
        {
          "output_type": "execute_result",
          "data": {
            "text/html": [
              "<div>\n",
              "<style scoped>\n",
              "    .dataframe tbody tr th:only-of-type {\n",
              "        vertical-align: middle;\n",
              "    }\n",
              "\n",
              "    .dataframe tbody tr th {\n",
              "        vertical-align: top;\n",
              "    }\n",
              "\n",
              "    .dataframe thead th {\n",
              "        text-align: right;\n",
              "    }\n",
              "</style>\n",
              "<table border=\"1\" class=\"dataframe\">\n",
              "  <thead>\n",
              "    <tr style=\"text-align: right;\">\n",
              "      <th></th>\n",
              "      <th>BTC-USD_close</th>\n",
              "      <th>BTC-USD_volume</th>\n",
              "      <th>LTC-USD_close</th>\n",
              "      <th>LTC-USD_volume</th>\n",
              "      <th>BCH-USD_close</th>\n",
              "      <th>BCH-USD_volume</th>\n",
              "      <th>ETH-USD_close</th>\n",
              "      <th>ETH-USD_volume</th>\n",
              "      <th>BTC-TARGET</th>\n",
              "    </tr>\n",
              "    <tr>\n",
              "      <th>time</th>\n",
              "      <th></th>\n",
              "      <th></th>\n",
              "      <th></th>\n",
              "      <th></th>\n",
              "      <th></th>\n",
              "      <th></th>\n",
              "      <th></th>\n",
              "      <th></th>\n",
              "      <th></th>\n",
              "    </tr>\n",
              "  </thead>\n",
              "  <tbody>\n",
              "    <tr>\n",
              "      <th>1528968720</th>\n",
              "      <td>6487.379883</td>\n",
              "      <td>7.706374</td>\n",
              "      <td>96.660004</td>\n",
              "      <td>314.387024</td>\n",
              "      <td>870.859985</td>\n",
              "      <td>26.856577</td>\n",
              "      <td>486.01001</td>\n",
              "      <td>26.019083</td>\n",
              "      <td>1</td>\n",
              "    </tr>\n",
              "    <tr>\n",
              "      <th>1528968780</th>\n",
              "      <td>6479.410156</td>\n",
              "      <td>3.088252</td>\n",
              "      <td>96.570000</td>\n",
              "      <td>77.129799</td>\n",
              "      <td>870.099976</td>\n",
              "      <td>1.124300</td>\n",
              "      <td>486.00000</td>\n",
              "      <td>8.449400</td>\n",
              "      <td>1</td>\n",
              "    </tr>\n",
              "    <tr>\n",
              "      <th>1528968840</th>\n",
              "      <td>6479.410156</td>\n",
              "      <td>1.404100</td>\n",
              "      <td>96.500000</td>\n",
              "      <td>7.216067</td>\n",
              "      <td>870.789978</td>\n",
              "      <td>1.749862</td>\n",
              "      <td>485.75000</td>\n",
              "      <td>26.994646</td>\n",
              "      <td>1</td>\n",
              "    </tr>\n",
              "    <tr>\n",
              "      <th>1528968900</th>\n",
              "      <td>6479.979980</td>\n",
              "      <td>0.753000</td>\n",
              "      <td>96.389999</td>\n",
              "      <td>524.539978</td>\n",
              "      <td>870.000000</td>\n",
              "      <td>1.680500</td>\n",
              "      <td>486.00000</td>\n",
              "      <td>77.355759</td>\n",
              "      <td>1</td>\n",
              "    </tr>\n",
              "    <tr>\n",
              "      <th>1528968960</th>\n",
              "      <td>6480.000000</td>\n",
              "      <td>1.490900</td>\n",
              "      <td>96.519997</td>\n",
              "      <td>16.991997</td>\n",
              "      <td>869.989990</td>\n",
              "      <td>1.669014</td>\n",
              "      <td>486.00000</td>\n",
              "      <td>7.503300</td>\n",
              "      <td>1</td>\n",
              "    </tr>\n",
              "  </tbody>\n",
              "</table>\n",
              "</div>"
            ],
            "text/plain": [
              "            BTC-USD_close  BTC-USD_volume  LTC-USD_close  LTC-USD_volume  \\\n",
              "time                                                                       \n",
              "1528968720    6487.379883        7.706374      96.660004      314.387024   \n",
              "1528968780    6479.410156        3.088252      96.570000       77.129799   \n",
              "1528968840    6479.410156        1.404100      96.500000        7.216067   \n",
              "1528968900    6479.979980        0.753000      96.389999      524.539978   \n",
              "1528968960    6480.000000        1.490900      96.519997       16.991997   \n",
              "\n",
              "            BCH-USD_close  BCH-USD_volume  ETH-USD_close  ETH-USD_volume  \\\n",
              "time                                                                       \n",
              "1528968720     870.859985       26.856577      486.01001       26.019083   \n",
              "1528968780     870.099976        1.124300      486.00000        8.449400   \n",
              "1528968840     870.789978        1.749862      485.75000       26.994646   \n",
              "1528968900     870.000000        1.680500      486.00000       77.355759   \n",
              "1528968960     869.989990        1.669014      486.00000        7.503300   \n",
              "\n",
              "            BTC-TARGET  \n",
              "time                    \n",
              "1528968720           1  \n",
              "1528968780           1  \n",
              "1528968840           1  \n",
              "1528968900           1  \n",
              "1528968960           1  "
            ]
          },
          "metadata": {
            "tags": []
          },
          "execution_count": 12
        }
      ]
    },
    {
      "metadata": {
        "id": "fxLoFPleQT2t",
        "colab_type": "text"
      },
      "cell_type": "markdown",
      "source": [
        "### 3. Train / Test Split"
      ]
    },
    {
      "metadata": {
        "id": "0arExbjMNN--",
        "colab_type": "code",
        "colab": {}
      },
      "cell_type": "code",
      "source": [
        "times = sorted(main_df.index.values)  # get the times\n",
        "last_5pct = sorted(main_df.index.values)[-int(0.05*len(times))]  # get the last 5% of the times\n",
        "\n",
        "validation_main_df = main_df[(main_df.index >= last_5pct)]  # make the validation data where the index is in the last 5%\n",
        "main_df = main_df[(main_df.index < last_5pct)]  # now the main_df is all the data up to the last 5%"
      ],
      "execution_count": 0,
      "outputs": []
    },
    {
      "metadata": {
        "id": "cP190OkbQV_p",
        "colab_type": "text"
      },
      "cell_type": "markdown",
      "source": [
        "### 4. Create Sequences"
      ]
    },
    {
      "metadata": {
        "id": "tiaXUZ-JNnA1",
        "colab_type": "code",
        "colab": {}
      },
      "cell_type": "code",
      "source": [
        "from sklearn import preprocessing  # pip install sklearn ... if you don't have it!\n",
        "from collections import deque\n",
        "import random\n",
        "import numpy as np\n",
        "\n",
        "def sequence_generator(main_df, SEQ_LEN, suffle=True,seed=101):\n",
        "    \n",
        "  sequential_data = []  # this is a list that will CONTAIN the sequences\n",
        "  queue = deque(maxlen = SEQ_LEN)  # These will be our actual sequences. They are made with deque, which keeps the maximum length by popping out older values as new ones come in\n",
        "\n",
        "  for i in main_df.values:  # iterate over the values\n",
        "      queue.append([n for n in i[:-1]])  # store all but the target\n",
        "      if len(queue) == SEQ_LEN:  # make sure we have 60 sequences!\n",
        "          sequential_data.append([np.array(queue), i[-1]])  # append those bad boys!\n",
        "\n",
        "  if suffle == True:\n",
        "      random.seed(seed)\n",
        "      random.shuffle(sequential_data)  # shuffle for good measure.\n",
        "\n",
        "  X = []\n",
        "  y = []\n",
        "\n",
        "  for seq, target in sequential_data:  # going over our new sequential data\n",
        "      X.append(seq)  # X is the sequences\n",
        "      y.append(target)  # y is the targets/labels (buys vs sell/notbuy)\n",
        "\n",
        "  return np.array(X), y  # return X and y...and make X a numpy array!"
      ],
      "execution_count": 0,
      "outputs": []
    },
    {
      "metadata": {
        "id": "kShgSiKgN9sA",
        "colab_type": "code",
        "colab": {}
      },
      "cell_type": "code",
      "source": [
        "train_x, train_y = sequence_generator(main_df , SEQ_LEN, suffle=True, seed=101)\n",
        "validation_x, validation_y = sequence_generator(validation_main_df , SEQ_LEN, suffle=True, seed=101)"
      ],
      "execution_count": 0,
      "outputs": []
    },
    {
      "metadata": {
        "id": "nkn_cv6wPVEA",
        "colab_type": "code",
        "outputId": "8d8f80aa-f758-472f-8acc-4346a84c4480",
        "colab": {
          "base_uri": "https://localhost:8080/",
          "height": 53
        }
      },
      "cell_type": "code",
      "source": [
        "print(train_x.shape, len(train_y))\n",
        "print(validation_x.shape, len(validation_y))"
      ],
      "execution_count": 16,
      "outputs": [
        {
          "output_type": "stream",
          "text": [
            "(92778, 60, 8) 92778\n",
            "(4827, 60, 8) 4827\n"
          ],
          "name": "stdout"
        }
      ]
    },
    {
      "metadata": {
        "id": "YO3VoIQFh8ce",
        "colab_type": "text"
      },
      "cell_type": "markdown",
      "source": [
        "## Up/ No Significant Change / Down Prediction Model"
      ]
    },
    {
      "metadata": {
        "id": "x_JZcMKHh9xV",
        "colab_type": "text"
      },
      "cell_type": "markdown",
      "source": [
        "### 1. Model Build"
      ]
    },
    {
      "metadata": {
        "id": "SqcfJrxmiFpE",
        "colab_type": "code",
        "colab": {}
      },
      "cell_type": "code",
      "source": [
        "import tensorflow as tf\n",
        "from tensorflow.keras.models import Sequential\n",
        "from tensorflow.keras.layers import Dense, Dropout, LSTM, CuDNNLSTM, BatchNormalization, Flatten\n",
        "\n",
        "def ex1_models(input_dim, output_dim):\n",
        "\n",
        "  # For illustration purpose \n",
        "  # I only use FNN\n",
        "  \n",
        "  # But you can try everything!\n",
        "  \n",
        "  L1 = 50  # 30\n",
        "  L2 = 30  # 20\n",
        "  L3 = 20  # 10\n",
        "  L4 = 10  # 5\n",
        "  L5 = 5\n",
        "\n",
        "  model = Sequential()\n",
        "  model.add(Dense(L1, input_shape=input_dim, activation='relu'))\n",
        "  model.add(Dropout(0.2))\n",
        "  model.add(BatchNormalization())\n",
        "\n",
        "  model.add(Dense(L2, activation='relu'))\n",
        "  model.add(Dropout(0.2))\n",
        "  model.add(BatchNormalization())\n",
        "\n",
        "  model.add(Dense(L3, activation='relu'))\n",
        "  model.add(Dropout(0.2))\n",
        "  model.add(BatchNormalization())\n",
        "\n",
        "  model.add(Dense(L4, activation='relu'))\n",
        "  model.add(Dropout(0.2))\n",
        "  model.add(BatchNormalization())\n",
        "\n",
        "  model.add(Dense(L5, activation='relu'))\n",
        "  model.add(Dropout(0.2))\n",
        "\n",
        "  model.add(Flatten())\n",
        "  model.add(Dense(output_dim, activation='softmax'))\n",
        "\n",
        "  model.compile(optimizer=tf.train.AdamOptimizer(0.001),\n",
        "            loss='categorical_crossentropy',\n",
        "            metrics=['accuracy'])\n",
        "\n",
        "    \n",
        "  return model"
      ],
      "execution_count": 0,
      "outputs": []
    },
    {
      "metadata": {
        "id": "2xtMiiEMiJ-N",
        "colab_type": "code",
        "colab": {}
      },
      "cell_type": "code",
      "source": [
        "model1 = ex1_models(train_x.shape[1:], 3)"
      ],
      "execution_count": 0,
      "outputs": []
    },
    {
      "metadata": {
        "id": "8xHSWzs8iBq1",
        "colab_type": "text"
      },
      "cell_type": "markdown",
      "source": [
        "### 2. Model Train\n"
      ]
    },
    {
      "metadata": {
        "id": "XlwicNBhiFSt",
        "colab_type": "code",
        "outputId": "3764debc-4bd8-4054-d5bc-5fa15642574c",
        "colab": {
          "base_uri": "https://localhost:8080/",
          "height": 395
        }
      },
      "cell_type": "code",
      "source": [
        "BATCH_SIZE = 64 \n",
        "NUM_ITERATIONS = 10\n",
        "\n",
        "model1.fit(train_x, tf.keras.utils.to_categorical(train_y, num_classes=None), \n",
        "              batch_size = BATCH_SIZE,\n",
        "              epochs = NUM_ITERATIONS)"
      ],
      "execution_count": 19,
      "outputs": [
        {
          "output_type": "stream",
          "text": [
            "Epoch 1/10\n",
            "92778/92778 [==============================] - 21s 226us/step - loss: 0.5171 - acc: 0.8546\n",
            "Epoch 2/10\n",
            "92778/92778 [==============================] - 20s 213us/step - loss: 0.4766 - acc: 0.8587\n",
            "Epoch 3/10\n",
            "92778/92778 [==============================] - 19s 210us/step - loss: 0.4716 - acc: 0.8587\n",
            "Epoch 4/10\n",
            "92778/92778 [==============================] - 19s 210us/step - loss: 0.4688 - acc: 0.8589\n",
            "Epoch 5/10\n",
            "92778/92778 [==============================] - 20s 211us/step - loss: 0.4655 - acc: 0.8590\n",
            "Epoch 6/10\n",
            "92778/92778 [==============================] - 19s 210us/step - loss: 0.4653 - acc: 0.8585\n",
            "Epoch 7/10\n",
            "92778/92778 [==============================] - 19s 208us/step - loss: 0.4657 - acc: 0.8588\n",
            "Epoch 8/10\n",
            "92778/92778 [==============================] - 19s 208us/step - loss: 0.4647 - acc: 0.8589\n",
            "Epoch 9/10\n",
            "92778/92778 [==============================] - 19s 210us/step - loss: 0.4637 - acc: 0.8589\n",
            "Epoch 10/10\n",
            "92778/92778 [==============================] - 19s 208us/step - loss: 0.4624 - acc: 0.8590\n"
          ],
          "name": "stdout"
        },
        {
          "output_type": "execute_result",
          "data": {
            "text/plain": [
              "<tensorflow.python.keras.callbacks.History at 0x7f7b04a95160>"
            ]
          },
          "metadata": {
            "tags": []
          },
          "execution_count": 19
        }
      ]
    },
    {
      "metadata": {
        "id": "Sjk0WzkeiDV9",
        "colab_type": "text"
      },
      "cell_type": "markdown",
      "source": [
        "### 3. Prediction"
      ]
    },
    {
      "metadata": {
        "id": "IZS3dLzDiEjk",
        "colab_type": "code",
        "outputId": "a64d3f04-3a57-4e3c-8305-f5b2126d1c9e",
        "colab": {
          "base_uri": "https://localhost:8080/",
          "height": 53
        }
      },
      "cell_type": "code",
      "source": [
        "predictions = model1.predict_classes(validation_x)\n",
        "\n",
        "# Score model\n",
        "score = model1.evaluate(validation_x, tf.keras.utils.to_categorical(validation_y, num_classes=None), \n",
        "                       verbose=0)\n",
        "\n",
        "print('Test loss:', score[0])\n",
        "print('Test accuracy:', score[1])"
      ],
      "execution_count": 20,
      "outputs": [
        {
          "output_type": "stream",
          "text": [
            "Test loss: 0.5219763976361457\n",
            "Test accuracy: 0.8960016572576689\n"
          ],
          "name": "stdout"
        }
      ]
    },
    {
      "metadata": {
        "id": "qfM3kZifnK-Y",
        "colab_type": "text"
      },
      "cell_type": "markdown",
      "source": [
        "# Exercise2 Return Prediction Model\n",
        "\n",
        "#### Requirements\n",
        "\n",
        "In this exercise you will change outcome variables to return (1D)\n",
        "  \n",
        "Hint\n",
        "1. Which loss function? Does it still categorical?\n",
        "2. Which activation function? Does it still softmax?\n",
        "\n",
        "\n",
        "#### Procedures\n",
        "- Preprocessing\n",
        "  1. Data Import and Create Balanced Panel\n",
        "  2. Create Target Variable\n",
        "  3. Train / Test Split\n",
        "  4. Create Sequences\n",
        "  \n",
        "- Training / Predicting Model\n",
        "  1. Model Build\n",
        "  2. Model Train\n",
        "  3. Prediction"
      ]
    },
    {
      "metadata": {
        "id": "ey7GAk22nm1T",
        "colab_type": "code",
        "colab": {}
      },
      "cell_type": "code",
      "source": [
        "SEQ_LEN = 60  # how long of a preceeding sequence to collect for RNN\n",
        "FUTURE_PERIOD_PREDICT = 3  # how far into the future are we trying to predict?\n",
        "RATIO_TO_PREDICT = \"LTC-USD\""
      ],
      "execution_count": 0,
      "outputs": []
    },
    {
      "metadata": {
        "id": "m7vQBLJZq7j7",
        "colab_type": "text"
      },
      "cell_type": "markdown",
      "source": [
        "## Preprocessing"
      ]
    },
    {
      "metadata": {
        "id": "754AjNC3q97y",
        "colab_type": "text"
      },
      "cell_type": "markdown",
      "source": [
        "### 1. Data Import and Create Balanced Panel"
      ]
    },
    {
      "metadata": {
        "id": "ooR6vTP7q1LP",
        "colab_type": "code",
        "colab": {
          "base_uri": "https://localhost:8080/",
          "height": 359
        },
        "outputId": "eafe09b6-d4da-48fe-8763-26e9581cb22c"
      },
      "cell_type": "code",
      "source": [
        "import pandas as pd\n",
        "from sklearn import preprocessing \n",
        "\n",
        "main_df = pd.DataFrame() # begin empty\n",
        "\n",
        "ratios = [\"BTC-USD\", \"LTC-USD\", \"BCH-USD\", \"ETH-USD\"]  # the 4 ratios we want to consider\n",
        "\n",
        "for ratio in ratios:  # begin iteration\n",
        "  print(ratio)\n",
        "  dataset = DATA_PATH+f'crypto_data/{ratio}.csv'  # get the full path to the file.\n",
        "  df = pd.read_csv(dataset, names=['time', 'low', 'high', 'open', 'close', 'volume'])  # read in specific file\n",
        "\n",
        "  # rename volume and close to include the ticker so we can still which close/volume is which:\n",
        "  df.rename(columns={\"close\": f\"{ratio}_close\", \"volume\": f\"{ratio}_volume\"}, inplace=True)\n",
        "\n",
        "  df.set_index(\"time\", inplace=True)  # set time as index so we can join them on this shared time\n",
        "  df = df[[f\"{ratio}_close\", f\"{ratio}_volume\"]]  # ignore the other columns besides price and volume\n",
        "\n",
        "  if len(main_df)==0:  # if the dataframe is empty\n",
        "      main_df = df  # then it's just the current df\n",
        "  else:  # otherwise, join this data to the main one\n",
        "      main_df = main_df.join(df)\n",
        "\n",
        "main_df.fillna(method=\"ffill\", inplace=True)  # if there are gaps in data, use previously known values\n",
        "main_df.dropna(inplace=True)\n",
        "print(main_df.head())  # how did we do??"
      ],
      "execution_count": 22,
      "outputs": [
        {
          "output_type": "stream",
          "text": [
            "BTC-USD\n",
            "LTC-USD\n",
            "BCH-USD\n",
            "ETH-USD\n",
            "            BTC-USD_close  BTC-USD_volume  LTC-USD_close  LTC-USD_volume  \\\n",
            "time                                                                       \n",
            "1528968720    6487.379883        7.706374      96.660004      314.387024   \n",
            "1528968780    6479.410156        3.088252      96.570000       77.129799   \n",
            "1528968840    6479.410156        1.404100      96.500000        7.216067   \n",
            "1528968900    6479.979980        0.753000      96.389999      524.539978   \n",
            "1528968960    6480.000000        1.490900      96.519997       16.991997   \n",
            "\n",
            "            BCH-USD_close  BCH-USD_volume  ETH-USD_close  ETH-USD_volume  \n",
            "time                                                                      \n",
            "1528968720     870.859985       26.856577      486.01001       26.019083  \n",
            "1528968780     870.099976        1.124300      486.00000        8.449400  \n",
            "1528968840     870.789978        1.749862      485.75000       26.994646  \n",
            "1528968900     870.000000        1.680500      486.00000       77.355759  \n",
            "1528968960     869.989990        1.669014      486.00000        7.503300  \n"
          ],
          "name": "stdout"
        }
      ]
    },
    {
      "metadata": {
        "id": "aT2FA6Qzq4ev",
        "colab_type": "text"
      },
      "cell_type": "markdown",
      "source": [
        "### 2. Create Target Variable"
      ]
    },
    {
      "metadata": {
        "id": "QzAsHZIxq3rv",
        "colab_type": "code",
        "colab": {}
      },
      "cell_type": "code",
      "source": [
        "currency_targets = [\"BTC\"]\n",
        "\n",
        "for currency_target in currency_targets:\n",
        "  main_df[currency_target+'-USD-TARGET'] = main_df[currency_target+'-USD_close'].shift(-FUTURE_PERIOD_PREDICT )\n",
        "  main_df[currency_target+'-USD-TARGET-RETURN'] = (main_df[currency_target+'-USD-TARGET']-main_df[currency_target+'-USD_close'])/main_df[currency_target+'-USD_close']\n",
        "  \n",
        "  main_df.drop(columns=[currency_target+'-USD-TARGET'], inplace=True)"
      ],
      "execution_count": 0,
      "outputs": []
    },
    {
      "metadata": {
        "id": "7gA78XCvzUJ9",
        "colab_type": "code",
        "colab": {}
      },
      "cell_type": "code",
      "source": [
        "from sklearn import preprocessing  # pip install sklearn ... if you don't have it!\n",
        "\n",
        "# Scaling Your Data\n",
        "main_df.fillna(main_df.mean(), inplace=True)"
      ],
      "execution_count": 0,
      "outputs": []
    },
    {
      "metadata": {
        "id": "UtIx1zn1rEQ9",
        "colab_type": "code",
        "colab": {
          "base_uri": "https://localhost:8080/",
          "height": 235
        },
        "outputId": "502426b2-9933-4f5e-a28b-f16055d449d7"
      },
      "cell_type": "code",
      "source": [
        "main_df.head()"
      ],
      "execution_count": 25,
      "outputs": [
        {
          "output_type": "execute_result",
          "data": {
            "text/html": [
              "<div>\n",
              "<style scoped>\n",
              "    .dataframe tbody tr th:only-of-type {\n",
              "        vertical-align: middle;\n",
              "    }\n",
              "\n",
              "    .dataframe tbody tr th {\n",
              "        vertical-align: top;\n",
              "    }\n",
              "\n",
              "    .dataframe thead th {\n",
              "        text-align: right;\n",
              "    }\n",
              "</style>\n",
              "<table border=\"1\" class=\"dataframe\">\n",
              "  <thead>\n",
              "    <tr style=\"text-align: right;\">\n",
              "      <th></th>\n",
              "      <th>BTC-USD_close</th>\n",
              "      <th>BTC-USD_volume</th>\n",
              "      <th>LTC-USD_close</th>\n",
              "      <th>LTC-USD_volume</th>\n",
              "      <th>BCH-USD_close</th>\n",
              "      <th>BCH-USD_volume</th>\n",
              "      <th>ETH-USD_close</th>\n",
              "      <th>ETH-USD_volume</th>\n",
              "      <th>BTC-USD-TARGET-RETURN</th>\n",
              "    </tr>\n",
              "    <tr>\n",
              "      <th>time</th>\n",
              "      <th></th>\n",
              "      <th></th>\n",
              "      <th></th>\n",
              "      <th></th>\n",
              "      <th></th>\n",
              "      <th></th>\n",
              "      <th></th>\n",
              "      <th></th>\n",
              "      <th></th>\n",
              "    </tr>\n",
              "  </thead>\n",
              "  <tbody>\n",
              "    <tr>\n",
              "      <th>1528968720</th>\n",
              "      <td>6487.379883</td>\n",
              "      <td>7.706374</td>\n",
              "      <td>96.660004</td>\n",
              "      <td>314.387024</td>\n",
              "      <td>870.859985</td>\n",
              "      <td>26.856577</td>\n",
              "      <td>486.01001</td>\n",
              "      <td>26.019083</td>\n",
              "      <td>-0.001141</td>\n",
              "    </tr>\n",
              "    <tr>\n",
              "      <th>1528968780</th>\n",
              "      <td>6479.410156</td>\n",
              "      <td>3.088252</td>\n",
              "      <td>96.570000</td>\n",
              "      <td>77.129799</td>\n",
              "      <td>870.099976</td>\n",
              "      <td>1.124300</td>\n",
              "      <td>486.00000</td>\n",
              "      <td>8.449400</td>\n",
              "      <td>0.000091</td>\n",
              "    </tr>\n",
              "    <tr>\n",
              "      <th>1528968840</th>\n",
              "      <td>6479.410156</td>\n",
              "      <td>1.404100</td>\n",
              "      <td>96.500000</td>\n",
              "      <td>7.216067</td>\n",
              "      <td>870.789978</td>\n",
              "      <td>1.749862</td>\n",
              "      <td>485.75000</td>\n",
              "      <td>26.994646</td>\n",
              "      <td>-0.000338</td>\n",
              "    </tr>\n",
              "    <tr>\n",
              "      <th>1528968900</th>\n",
              "      <td>6479.979980</td>\n",
              "      <td>0.753000</td>\n",
              "      <td>96.389999</td>\n",
              "      <td>524.539978</td>\n",
              "      <td>870.000000</td>\n",
              "      <td>1.680500</td>\n",
              "      <td>486.00000</td>\n",
              "      <td>77.355759</td>\n",
              "      <td>0.000003</td>\n",
              "    </tr>\n",
              "    <tr>\n",
              "      <th>1528968960</th>\n",
              "      <td>6480.000000</td>\n",
              "      <td>1.490900</td>\n",
              "      <td>96.519997</td>\n",
              "      <td>16.991997</td>\n",
              "      <td>869.989990</td>\n",
              "      <td>1.669014</td>\n",
              "      <td>486.00000</td>\n",
              "      <td>7.503300</td>\n",
              "      <td>-0.000002</td>\n",
              "    </tr>\n",
              "  </tbody>\n",
              "</table>\n",
              "</div>"
            ],
            "text/plain": [
              "            BTC-USD_close  BTC-USD_volume  LTC-USD_close  LTC-USD_volume  \\\n",
              "time                                                                       \n",
              "1528968720    6487.379883        7.706374      96.660004      314.387024   \n",
              "1528968780    6479.410156        3.088252      96.570000       77.129799   \n",
              "1528968840    6479.410156        1.404100      96.500000        7.216067   \n",
              "1528968900    6479.979980        0.753000      96.389999      524.539978   \n",
              "1528968960    6480.000000        1.490900      96.519997       16.991997   \n",
              "\n",
              "            BCH-USD_close  BCH-USD_volume  ETH-USD_close  ETH-USD_volume  \\\n",
              "time                                                                       \n",
              "1528968720     870.859985       26.856577      486.01001       26.019083   \n",
              "1528968780     870.099976        1.124300      486.00000        8.449400   \n",
              "1528968840     870.789978        1.749862      485.75000       26.994646   \n",
              "1528968900     870.000000        1.680500      486.00000       77.355759   \n",
              "1528968960     869.989990        1.669014      486.00000        7.503300   \n",
              "\n",
              "            BTC-USD-TARGET-RETURN  \n",
              "time                               \n",
              "1528968720              -0.001141  \n",
              "1528968780               0.000091  \n",
              "1528968840              -0.000338  \n",
              "1528968900               0.000003  \n",
              "1528968960              -0.000002  "
            ]
          },
          "metadata": {
            "tags": []
          },
          "execution_count": 25
        }
      ]
    },
    {
      "metadata": {
        "id": "73dbkD2wrUCM",
        "colab_type": "text"
      },
      "cell_type": "markdown",
      "source": [
        "### 3. Train / Test Split"
      ]
    },
    {
      "metadata": {
        "id": "hdBJZalyrQBs",
        "colab_type": "code",
        "colab": {}
      },
      "cell_type": "code",
      "source": [
        "times = sorted(main_df.index.values)  # get the times\n",
        "last_5pct = sorted(main_df.index.values)[-int(0.05*len(times))]  # get the last 5% of the times\n",
        "\n",
        "validation_main_df = main_df[(main_df.index >= last_5pct)]  # make the validation data where the index is in the last 5%\n",
        "main_df = main_df[(main_df.index < last_5pct)]  # now the main_df is all the data up to the last 5%"
      ],
      "execution_count": 0,
      "outputs": []
    },
    {
      "metadata": {
        "id": "hhupZQWGrXYs",
        "colab_type": "text"
      },
      "cell_type": "markdown",
      "source": [
        "### 4. Create Sequences"
      ]
    },
    {
      "metadata": {
        "id": "1nZZOqKkrZ-N",
        "colab_type": "code",
        "colab": {}
      },
      "cell_type": "code",
      "source": [
        "from sklearn import preprocessing  # pip install sklearn ... if you don't have it!\n",
        "from collections import deque\n",
        "import random\n",
        "import numpy as np\n",
        "\n",
        "def sequence_generator(main_df, SEQ_LEN, suffle=True,seed=101):\n",
        "    \n",
        "  sequential_data = []  # this is a list that will CONTAIN the sequences\n",
        "  queue = deque(maxlen = SEQ_LEN)  # These will be our actual sequences. They are made with deque, which keeps the maximum length by popping out older values as new ones come in\n",
        "\n",
        "  for i in main_df.values:  # iterate over the values\n",
        "      queue.append([n for n in i[:-1]])  # store all but the target\n",
        "      if len(queue) == SEQ_LEN:  # make sure we have 60 sequences!\n",
        "          sequential_data.append([np.array(queue), i[-1]])  # append those bad boys!\n",
        "\n",
        "  if suffle == True:\n",
        "      random.seed(seed)\n",
        "      random.shuffle(sequential_data)  # shuffle for good measure.\n",
        "\n",
        "  X = []\n",
        "  y = []\n",
        "\n",
        "  for seq, target in sequential_data:  # going over our new sequential data\n",
        "      X.append(seq)  # X is the sequences\n",
        "      y.append(target)  # y is the targets/labels (buys vs sell/notbuy)\n",
        "\n",
        "  return np.array(X), y  # return X and y...and make X a numpy array!"
      ],
      "execution_count": 0,
      "outputs": []
    },
    {
      "metadata": {
        "id": "WMPS0r6grcFs",
        "colab_type": "code",
        "colab": {}
      },
      "cell_type": "code",
      "source": [
        "train_x, train_y = sequence_generator(main_df , SEQ_LEN, suffle=True, seed=101)\n",
        "validation_x, validation_y = sequence_generator(validation_main_df , SEQ_LEN, suffle=True, seed=101)"
      ],
      "execution_count": 0,
      "outputs": []
    },
    {
      "metadata": {
        "id": "NBTVnFZhrd5z",
        "colab_type": "code",
        "colab": {
          "base_uri": "https://localhost:8080/",
          "height": 53
        },
        "outputId": "ec683ddc-543a-45c2-a49f-01c18843b8c9"
      },
      "cell_type": "code",
      "source": [
        "print(train_x.shape, len(train_y))\n",
        "print(validation_x.shape, len(validation_y))"
      ],
      "execution_count": 29,
      "outputs": [
        {
          "output_type": "stream",
          "text": [
            "(92778, 60, 8) 92778\n",
            "(4827, 60, 8) 4827\n"
          ],
          "name": "stdout"
        }
      ]
    },
    {
      "metadata": {
        "id": "c4Wp-Efxrfoz",
        "colab_type": "text"
      },
      "cell_type": "markdown",
      "source": [
        "## Return Prediction Model"
      ]
    },
    {
      "metadata": {
        "id": "ZppjdkQmrjcD",
        "colab_type": "text"
      },
      "cell_type": "markdown",
      "source": [
        "### 1. Model Build"
      ]
    },
    {
      "metadata": {
        "id": "7UNi3N9SryVf",
        "colab_type": "code",
        "colab": {}
      },
      "cell_type": "code",
      "source": [
        "import tensorflow as tf\n",
        "from tensorflow.keras.models import Sequential\n",
        "from tensorflow.keras.layers import Dense, Dropout, LSTM,\\\n",
        "CuDNNLSTM, BatchNormalization, Flatten, Activation\n",
        "\n",
        "def ex2_models(input_dim, output_dim):\n",
        "\n",
        "  # For illustration purpose \n",
        "  # I only use FNN\n",
        "  \n",
        "  # But you can try everything!\n",
        "  \n",
        "  L1 = 50  # 30\n",
        "  L2 = 30  # 20\n",
        "  L3 = 20  # 10\n",
        "  L4 = 10  # 5\n",
        "  L5 = 5\n",
        "\n",
        "  model = Sequential()\n",
        "  model.add(Dense(L1, input_shape=input_dim, activation='relu'))\n",
        "  model.add(Dropout(0.2))\n",
        "  model.add(BatchNormalization())\n",
        "\n",
        "  model.add(Dense(L2, activation='relu'))\n",
        "  model.add(Dropout(0.2))\n",
        "  model.add(BatchNormalization())\n",
        "\n",
        "  model.add(Dense(L3, activation='relu'))\n",
        "  model.add(Dropout(0.2))\n",
        "  model.add(BatchNormalization())\n",
        "\n",
        "  model.add(Dense(L4, activation='relu'))\n",
        "  model.add(Dropout(0.2))\n",
        "  model.add(BatchNormalization())\n",
        "\n",
        "  model.add(Dense(L5, activation='relu'))\n",
        "  model.add(Dropout(0.2))\n",
        "\n",
        "  model.add(Flatten())\n",
        "  model.add(Dense(output_dim))\n",
        "\n",
        "  model.compile(optimizer=tf.train.AdamOptimizer(0.001),\n",
        "            loss='mean_squared_error')\n",
        "\n",
        "  return model"
      ],
      "execution_count": 0,
      "outputs": []
    },
    {
      "metadata": {
        "id": "dw-1hJa0rppx",
        "colab_type": "text"
      },
      "cell_type": "markdown",
      "source": [
        "### 2. Model Train"
      ]
    },
    {
      "metadata": {
        "id": "skDP-L25rx8-",
        "colab_type": "code",
        "colab": {}
      },
      "cell_type": "code",
      "source": [
        "model2 = ex2_models(train_x.shape[1:], 1)"
      ],
      "execution_count": 0,
      "outputs": []
    },
    {
      "metadata": {
        "id": "yP0GWYGar_RW",
        "colab_type": "code",
        "colab": {
          "base_uri": "https://localhost:8080/",
          "height": 395
        },
        "outputId": "5b18f7e4-fe69-4a46-df2e-3554b9acc529"
      },
      "cell_type": "code",
      "source": [
        "BATCH_SIZE = 64 \n",
        "NUM_ITERATIONS = 10\n",
        "\n",
        "model2.fit(train_x, train_y, \n",
        "              batch_size = BATCH_SIZE,\n",
        "              epochs = NUM_ITERATIONS)"
      ],
      "execution_count": 32,
      "outputs": [
        {
          "output_type": "stream",
          "text": [
            "Epoch 1/10\n",
            "92778/92778 [==============================] - 19s 209us/step - loss: 0.0601\n",
            "Epoch 2/10\n",
            "92778/92778 [==============================] - 19s 200us/step - loss: 5.5421e-04\n",
            "Epoch 3/10\n",
            "92778/92778 [==============================] - 19s 200us/step - loss: 1.2052e-04\n",
            "Epoch 4/10\n",
            "92778/92778 [==============================] - 19s 201us/step - loss: 4.0609e-05\n",
            "Epoch 5/10\n",
            "92778/92778 [==============================] - 19s 201us/step - loss: 1.9419e-05\n",
            "Epoch 6/10\n",
            "92778/92778 [==============================] - 19s 203us/step - loss: 7.1324e-06\n",
            "Epoch 7/10\n",
            "92778/92778 [==============================] - 19s 205us/step - loss: 4.0147e-06\n",
            "Epoch 8/10\n",
            "92778/92778 [==============================] - 19s 200us/step - loss: 4.2268e-06\n",
            "Epoch 9/10\n",
            "92778/92778 [==============================] - 19s 202us/step - loss: 4.7824e-06\n",
            "Epoch 10/10\n",
            "92778/92778 [==============================] - 19s 199us/step - loss: 2.8675e-06\n"
          ],
          "name": "stdout"
        },
        {
          "output_type": "execute_result",
          "data": {
            "text/plain": [
              "<tensorflow.python.keras.callbacks.History at 0x7f7aad282f60>"
            ]
          },
          "metadata": {
            "tags": []
          },
          "execution_count": 32
        }
      ]
    },
    {
      "metadata": {
        "id": "uUWrOqQfrvlY",
        "colab_type": "text"
      },
      "cell_type": "markdown",
      "source": [
        "### 3. Prediction"
      ]
    },
    {
      "metadata": {
        "id": "rrp4PaUvrxPZ",
        "colab_type": "code",
        "colab": {
          "base_uri": "https://localhost:8080/",
          "height": 35
        },
        "outputId": "0b0d47ee-af41-4534-c582-befb4be43b10"
      },
      "cell_type": "code",
      "source": [
        "predictions = model2.predict(validation_x)\n",
        "\n",
        "# Score model\n",
        "score = model2.evaluate(validation_x, validation_y,\n",
        "                       verbose=0)\n",
        "\n",
        "print('Test loss:', score) # this is mean_squared_error "
      ],
      "execution_count": 33,
      "outputs": [
        {
          "output_type": "stream",
          "text": [
            "Test loss: 1.897500496257514e-06\n"
          ],
          "name": "stdout"
        }
      ]
    },
    {
      "metadata": {
        "id": "W4wWyk7nzFwL",
        "colab_type": "code",
        "colab": {}
      },
      "cell_type": "code",
      "source": [
        ""
      ],
      "execution_count": 0,
      "outputs": []
    }
  ]
}