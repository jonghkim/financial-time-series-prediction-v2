{
  "nbformat": 4,
  "nbformat_minor": 0,
  "metadata": {
    "colab": {
      "name": "Lab2_Tensorboard_on_Google_Colab.ipynb",
      "version": "0.3.2",
      "provenance": [],
      "collapsed_sections": []
    },
    "kernelspec": {
      "name": "python3",
      "display_name": "Python 3"
    },
    "accelerator": "GPU"
  },
  "cells": [
    {
      "metadata": {
        "id": "nOb3j5kCEQVp",
        "colab_type": "text"
      },
      "cell_type": "markdown",
      "source": [
        "# M2.2 Tensorboard on Goolge Colab\n",
        "\n"
      ]
    },
    {
      "metadata": {
        "id": "ReOctDYRTUDY",
        "colab_type": "code",
        "colab": {
          "base_uri": "https://localhost:8080/",
          "height": 238
        },
        "outputId": "011e936a-c8df-407d-8c56-cdd7c5503a12"
      },
      "cell_type": "code",
      "source": [
        "!wget https://bin.equinox.io/c/4VmDzA7iaHb/ngrok-stable-linux-amd64.zip\n",
        "!unzip ngrok-stable-linux-amd64.zip"
      ],
      "execution_count": 1,
      "outputs": [
        {
          "output_type": "stream",
          "text": [
            "--2018-10-27 07:07:04--  https://bin.equinox.io/c/4VmDzA7iaHb/ngrok-stable-linux-amd64.zip\n",
            "Resolving bin.equinox.io (bin.equinox.io)... 54.172.170.160, 52.44.92.122, 54.209.64.71, ...\n",
            "Connecting to bin.equinox.io (bin.equinox.io)|54.172.170.160|:443... connected.\n",
            "HTTP request sent, awaiting response... 300 OK\n",
            "Length: 5363700 (5.1M) [application/octet-stream]\n",
            "Saving to: ‘ngrok-stable-linux-amd64.zip.1’\n",
            "\n",
            "ngrok-stable-linux- 100%[===================>]   5.11M  3.44MB/s    in 1.5s    \n",
            "\n",
            "2018-10-27 07:07:07 (3.44 MB/s) - ‘ngrok-stable-linux-amd64.zip.1’ saved [5363700/5363700]\n",
            "\n",
            "Archive:  ngrok-stable-linux-amd64.zip\n",
            "replace ngrok? [y]es, [n]o, [A]ll, [N]one, [r]ename: n\n"
          ],
          "name": "stdout"
        }
      ]
    },
    {
      "metadata": {
        "id": "LGco_-iyRvQQ",
        "colab_type": "text"
      },
      "cell_type": "markdown",
      "source": [
        "## CNN Prediction\n",
        "- Read Training FIle\n",
        "- Build Model\n",
        "- Train Model\n",
        "- Predict Model"
      ]
    },
    {
      "metadata": {
        "id": "vGqpt3rSEalf",
        "colab_type": "code",
        "colab": {}
      },
      "cell_type": "code",
      "source": [
        "%matplotlib inline"
      ],
      "execution_count": 0,
      "outputs": []
    },
    {
      "metadata": {
        "id": "RPQiJsmuKLMz",
        "colab_type": "code",
        "colab": {
          "base_uri": "https://localhost:8080/",
          "height": 34
        },
        "outputId": "ef383b94-5709-483c-d335-815b00f17c3a"
      },
      "cell_type": "code",
      "source": [
        "from google.colab import drive\n",
        "drive.mount('/content/gdrive')"
      ],
      "execution_count": 3,
      "outputs": [
        {
          "output_type": "stream",
          "text": [
            "Drive already mounted at /content/gdrive; to attempt to forcibly remount, call drive.mount(\"/content/gdrive\", force_remount=True).\n"
          ],
          "name": "stdout"
        }
      ]
    },
    {
      "metadata": {
        "id": "BXjCkPEqPnBW",
        "colab_type": "code",
        "colab": {}
      },
      "cell_type": "code",
      "source": [
        "DATA_PATH = \"/content/gdrive/My Drive/Lecture/StudyPie/Data/\""
      ],
      "execution_count": 0,
      "outputs": []
    },
    {
      "metadata": {
        "id": "8VHInaJ4KOkh",
        "colab_type": "code",
        "colab": {
          "base_uri": "https://localhost:8080/",
          "height": 51
        },
        "outputId": "5e01c5d2-1f0d-405e-f60a-f4bf1886d865"
      },
      "cell_type": "code",
      "source": [
        "!ls \"/content/gdrive/My Drive/Lecture/StudyPie/Data/\""
      ],
      "execution_count": 5,
      "outputs": [
        {
          "output_type": "stream",
          "text": [
            "crypto_data.zip\t\t     M2_1_X.pickle  __MACOSX   PetImages.zip\n",
            "kagglecatsanddogs_3367a.zip  M2_1_y.pickle  PetImages\n"
          ],
          "name": "stdout"
        }
      ]
    },
    {
      "metadata": {
        "id": "bjYbvijkJSry",
        "colab_type": "code",
        "colab": {}
      },
      "cell_type": "code",
      "source": [
        "# Read training file\n",
        "import pickle\n",
        "\n",
        "pickle_in = open(DATA_PATH+\"M2_1_X.pickle\",\"rb\")\n",
        "X = pickle.load(pickle_in)\n",
        "\n",
        "pickle_in = open(DATA_PATH+\"M2_1_y.pickle\",\"rb\")\n",
        "y = pickle.load(pickle_in)"
      ],
      "execution_count": 0,
      "outputs": []
    },
    {
      "metadata": {
        "id": "ieRQC6kiRbsh",
        "colab_type": "code",
        "colab": {}
      },
      "cell_type": "code",
      "source": [
        "X = X/255.0\n",
        "\n",
        "TRAIN_RATIO = 0.8\n",
        "\n",
        "X_train = X[:int(len(X)*TRAIN_RATIO)]\n",
        "y_train = y[:int(len(y)*TRAIN_RATIO)]\n",
        "\n",
        "X_test = X[int(len(X)*TRAIN_RATIO):]\n",
        "y_test = y[int(len(y)*TRAIN_RATIO):]"
      ],
      "execution_count": 0,
      "outputs": []
    },
    {
      "metadata": {
        "id": "gbTY3mhSX3Pr",
        "colab_type": "text"
      },
      "cell_type": "markdown",
      "source": [
        "## Run TensorBoard"
      ]
    },
    {
      "metadata": {
        "id": "bW8TbMJKVwCF",
        "colab_type": "code",
        "colab": {}
      },
      "cell_type": "code",
      "source": [
        "LOG_DIR = './log'\n",
        "get_ipython().system_raw(\n",
        "    'tensorboard --logdir {} --host 0.0.0.0 --port 6006 &'\n",
        "    .format(LOG_DIR)\n",
        ")"
      ],
      "execution_count": 0,
      "outputs": []
    },
    {
      "metadata": {
        "id": "pr_s7ctaX03K",
        "colab_type": "text"
      },
      "cell_type": "markdown",
      "source": [
        "## Run ngrok"
      ]
    },
    {
      "metadata": {
        "id": "eluxU8v2Vy_6",
        "colab_type": "code",
        "colab": {}
      },
      "cell_type": "code",
      "source": [
        "get_ipython().system_raw('./ngrok http 6006 &')"
      ],
      "execution_count": 0,
      "outputs": []
    },
    {
      "metadata": {
        "id": "yVhL65BHXzMt",
        "colab_type": "text"
      },
      "cell_type": "markdown",
      "source": [
        "## Get URL"
      ]
    },
    {
      "metadata": {
        "id": "iJrYuCVbXxCQ",
        "colab_type": "code",
        "colab": {
          "base_uri": "https://localhost:8080/",
          "height": 34
        },
        "outputId": "b39d8e06-61a4-485b-9225-2660e8e4971e"
      },
      "cell_type": "code",
      "source": [
        "!curl -s http://localhost:4040/api/tunnels | python3 -c \\\n",
        "    \"import sys, json; print(json.load(sys.stdin)['tunnels'][0]['public_url'])\""
      ],
      "execution_count": 12,
      "outputs": [
        {
          "output_type": "stream",
          "text": [
            "https://39eb00f7.ngrok.io\n"
          ],
          "name": "stdout"
        }
      ]
    },
    {
      "metadata": {
        "id": "J5pR8nL-X7Or",
        "colab_type": "text"
      },
      "cell_type": "markdown",
      "source": [
        "## Run a Keras model with TenorBoard"
      ]
    },
    {
      "metadata": {
        "id": "4qq8U2tFRmXu",
        "colab_type": "code",
        "colab": {
          "base_uri": "https://localhost:8080/",
          "height": 221
        },
        "outputId": "c514a79e-6f25-497f-91a3-41639950f18b"
      },
      "cell_type": "code",
      "source": [
        "from tensorflow.keras.models import Sequential\n",
        "from tensorflow.keras.layers import Dense, Dropout, Activation, Flatten\n",
        "from tensorflow.keras.layers import Conv2D, MaxPooling2D\n",
        "from tensorflow.keras.callbacks import TensorBoard\n",
        "import time\n",
        "\n",
        "\n",
        "tbCallBack = TensorBoard(log_dir='./log', histogram_freq=1,\n",
        "                         write_graph=True,\n",
        "                         write_grads=True,\n",
        "                         write_images=True)\n",
        "\n",
        "model = Sequential()\n",
        "\n",
        "model.add(Conv2D(256, (3, 3), input_shape=X.shape[1:]))\n",
        "model.add(Activation('relu'))\n",
        "model.add(MaxPooling2D(pool_size=(2, 2)))\n",
        "\n",
        "model.add(Conv2D(256, (3, 3)))\n",
        "model.add(Activation('relu'))\n",
        "model.add(MaxPooling2D(pool_size=(2, 2)))\n",
        "\n",
        "model.add(Flatten())  # this converts our 3D feature maps to 1D feature vectors\n",
        "\n",
        "model.add(Dense(64))\n",
        "\n",
        "model.add(Dense(1))\n",
        "model.add(Activation('sigmoid'))\n",
        "\n",
        "\n",
        "model.compile(loss='binary_crossentropy',\n",
        "              optimizer='adam',\n",
        "              metrics=['accuracy'])\n",
        "\n",
        "model.fit(X_train, y_train, batch_size=32, epochs=5, validation_split=0.3,\n",
        "          callbacks=[tbCallBack])"
      ],
      "execution_count": 11,
      "outputs": [
        {
          "output_type": "stream",
          "text": [
            "Train on 1103 samples, validate on 474 samples\n",
            "Epoch 1/5\n",
            "1103/1103 [==============================] - 94s 85ms/step - loss: 1.2309 - acc: 0.5113 - val_loss: 0.6916 - val_acc: 0.5359\n",
            "Epoch 2/5\n",
            "1103/1103 [==============================] - 89s 81ms/step - loss: 0.6824 - acc: 0.5694 - val_loss: 0.7865 - val_acc: 0.4684\n",
            "Epoch 3/5\n",
            "1103/1103 [==============================] - 88s 79ms/step - loss: 0.6470 - acc: 0.6437 - val_loss: 0.6634 - val_acc: 0.6118\n",
            "Epoch 4/5\n",
            "1103/1103 [==============================] - 87s 79ms/step - loss: 0.5694 - acc: 0.7035 - val_loss: 0.7094 - val_acc: 0.6139\n",
            "Epoch 5/5\n",
            "1103/1103 [==============================] - 91s 83ms/step - loss: 0.4959 - acc: 0.7561 - val_loss: 0.6908 - val_acc: 0.6498\n"
          ],
          "name": "stdout"
        },
        {
          "output_type": "execute_result",
          "data": {
            "text/plain": [
              "<tensorflow.python.keras.callbacks.History at 0x7f91f2948080>"
            ]
          },
          "metadata": {
            "tags": []
          },
          "execution_count": 11
        }
      ]
    },
    {
      "metadata": {
        "id": "CkDfgLxQYGea",
        "colab_type": "text"
      },
      "cell_type": "markdown",
      "source": [
        "## Optionally check tensorboard and ngrok PIDs and stop them"
      ]
    },
    {
      "metadata": {
        "id": "Y7AqQn8RYJJ5",
        "colab_type": "code",
        "colab": {
          "base_uri": "https://localhost:8080/",
          "height": 68
        },
        "outputId": "be9f6128-e93b-4bdb-f12f-b6f899760087"
      },
      "cell_type": "code",
      "source": [
        "#!ps aux | grep tensorboard"
      ],
      "execution_count": 13,
      "outputs": [
        {
          "output_type": "stream",
          "text": [
            "root         986  0.9  3.3 1729856 445480 ?      Sl   07:07   0:04 /usr/bin/python2 /usr/local/bin/tensorboard --logdir ./log --host 0.0.0.0 --port 6006\n",
            "root        1060  0.0  0.0  39196  6528 ?        S    07:15   0:00 /bin/bash -c ps aux | grep tensorboard\n",
            "root        1062  0.0  0.0  39196  2696 ?        D    07:15   0:00 /bin/bash -c ps aux | grep tensorboard\n"
          ],
          "name": "stdout"
        }
      ]
    },
    {
      "metadata": {
        "id": "UB16HTRxYMP-",
        "colab_type": "code",
        "colab": {}
      },
      "cell_type": "code",
      "source": [
        "#!kill 986"
      ],
      "execution_count": 0,
      "outputs": []
    },
    {
      "metadata": {
        "id": "t03Mq5N2YCgr",
        "colab_type": "text"
      },
      "cell_type": "markdown",
      "source": [
        "## Optionally clear the tensorboard records directory"
      ]
    },
    {
      "metadata": {
        "id": "xDRTk3OMYBgY",
        "colab_type": "code",
        "colab": {}
      },
      "cell_type": "code",
      "source": [
        "#!rm -rf log"
      ],
      "execution_count": 0,
      "outputs": []
    }
  ]
}